{
 "cells": [
  {
   "cell_type": "markdown",
   "metadata": {},
   "source": [
    "# Specter Embeddings\n",
    "Delvin\n",
    "\n",
    "This notebook\n",
    "1) preps SickKids IPE + Urology Datasets for embedding\n",
    "2) performs inference to embed the abstracts\n",
    "\n",
    "Output is a .jsonl file to be parsed.\n"
   ]
  },
  {
   "cell_type": "markdown",
   "metadata": {},
   "source": [
    "Follow instructions for setting up specter per: https://github.com/allenai/specter\n",
    "\n",
    "Then, download datasets_complete and unzip into `specter`"
   ]
  },
  {
   "cell_type": "code",
   "execution_count": 1,
   "metadata": {},
   "outputs": [],
   "source": [
    "import numpy as np\n",
    "import pandas as pd\n",
    "from glob import glob\n",
    "import os\n",
    "import json"
   ]
  },
  {
   "cell_type": "code",
   "execution_count": 2,
   "metadata": {},
   "outputs": [],
   "source": [
    "data_dir = 'datasets_complete/*'\n",
    "out_dir = 'datasets_json'\n",
    "\n",
    "if not os.path.exists(out_dir): os.makedirs(out_dir)"
   ]
  },
  {
   "cell_type": "code",
   "execution_count": 3,
   "metadata": {},
   "outputs": [],
   "source": [
    "f = glob('datasets_complete/*')"
   ]
  },
  {
   "cell_type": "code",
   "execution_count": 4,
   "metadata": {},
   "outputs": [
    {
     "name": "stdout",
     "output_type": "stream",
     "text": [
      "Vitamin_D\n",
      "Hydronephrosis\n",
      "Scaling\n",
      "Rehab\n",
      "NCDs\n",
      "ADIPP\n",
      "Fragility_of_BBD\n",
      "WASH\n"
     ]
    }
   ],
   "source": [
    "for fn in f: \n",
    "    basen = os.path.basename(fn)\n",
    "    txt = os.path.splitext(basen)[0]\n",
    "    txt = txt.split('_')[0].replace(' ', '_')\n",
    "\n",
    "    print(txt)\n"
   ]
  },
  {
   "cell_type": "code",
   "execution_count": 5,
   "metadata": {},
   "outputs": [
    {
     "name": "stdout",
     "output_type": "stream",
     "text": [
      "datasets_complete/Vitamin D_complete2.csv\n",
      "datasets_json/Vitamin_D.json\n",
      "datasets_complete/Hydronephrosis_FQ_complete.csv\n",
      "datasets_json/Hydronephrosis.json\n",
      "datasets_complete/Scaling_complete.csv\n",
      "datasets_json/Scaling.json\n",
      "datasets_complete/Rehab_complete.csv\n",
      "datasets_json/Rehab.json\n",
      "datasets_complete/NCDs_complete_2020_07_15.csv\n",
      "datasets_json/NCDs.json\n",
      "datasets_complete/ADIPP_complete.csv\n",
      "datasets_json/ADIPP.json\n"
     ]
    },
    {
     "name": "stderr",
     "output_type": "stream",
     "text": [
      "/home/dso/.local/lib/python3.8/site-packages/IPython/core/interactiveshell.py:3145: DtypeWarning: Columns (13) have mixed types.Specify dtype option on import or set low_memory=False.\n",
      "  has_raised = await self.run_ast_nodes(code_ast.body, cell_name,\n"
     ]
    },
    {
     "name": "stdout",
     "output_type": "stream",
     "text": [
      "datasets_complete/Fragility of BBD_complete.csv\n",
      "datasets_json/Fragility_of_BBD.json\n"
     ]
    },
    {
     "name": "stderr",
     "output_type": "stream",
     "text": [
      "/home/dso/.local/lib/python3.8/site-packages/IPython/core/interactiveshell.py:3145: DtypeWarning: Columns (14) have mixed types.Specify dtype option on import or set low_memory=False.\n",
      "  has_raised = await self.run_ast_nodes(code_ast.body, cell_name,\n"
     ]
    },
    {
     "name": "stdout",
     "output_type": "stream",
     "text": [
      "datasets_complete/WASH_complete.csv\n",
      "datasets_json/WASH.json\n",
      "Done!\n"
     ]
    }
   ],
   "source": [
    "for fn in f:\n",
    "    # construct new filename for json and ids\n",
    "    print(fn)\n",
    "    basen = os.path.basename(fn)\n",
    "    txt = os.path.splitext(basen)[0]\n",
    "    txt = txt.split('_')[0].replace(' ', '_')\n",
    "    out_json = os.path.join(out_dir, '{}.json'.format(txt))\n",
    "    out_ids = os.path.join(out_dir, '{}.ids'.format(txt))\n",
    "    print(out_json)\n",
    "    \n",
    "    # read in each file and dump to json per specter formatting \n",
    "    \n",
    "    dat = pd.read_csv(fn, encoding = 'ISO-8859-1')\n",
    "    dat = dat.dropna(subset = ['Abstract']) # drop the papers with null abstracts after parsing to retain the index?\n",
    "    dat.columns = map(str.lower, dat.columns) # lowercase for compatability w/ specter\n",
    "    dat = dat.reset_index() \n",
    "    dat = dat.rename(columns={'index': 'paper_id'})\n",
    "    new_json = dat[['title', 'abstract', 'paper_id']].to_json(orient = 'index')\n",
    "    parsed_json = json.loads(new_json)\n",
    "    #json.dumps(parsed_json, indent = 2)\n",
    "    with open(out_json, 'w', encoding='utf-8') as f:\n",
    "        json.dump(parsed_json, f, ensure_ascii=False, indent=4)\n",
    "        \n",
    "    # also create the '*.ids' file\n",
    "    \n",
    "    dat.to_csv(out_ids, columns=[], header=False)\n",
    "    \n",
    "    \n",
    "print('Done!')"
   ]
  },
  {
   "cell_type": "code",
   "execution_count": null,
   "metadata": {},
   "outputs": [],
   "source": [
    "%%bash\n",
    "\n",
    "out_dir=embed_json\n",
    "mkdir -p ${out_dir}\n",
    "\n",
    "\n",
    "for f in $(ls datasets_json/*ids) |\n",
    "do\n",
    "    f=$(basename ${f} | sed 's/\\.ids//g')\n",
    "    echo ${f}\n",
    "    \n",
    "    \n",
    "    python3 scripts/embed.py \\\n",
    "        --ids datasets_json/${f}.ids --metadata datasets_json/${f}.json \\\n",
    "        --model ./model.tar.gz \\\n",
    "        --output-file ${out_dir}/${f}.jsonl \\\n",
    "        --vocab-dir data/vocab/ \\\n",
    "        --batch-size 96 \\\n",
    "        --cuda-device 2\n",
    "\n",
    "done\n",
    "echo \"Done!\""
   ]
  },
  {
   "cell_type": "code",
   "execution_count": 30,
   "metadata": {},
   "outputs": [],
   "source": [
    "dat = pd.read_csv(f[1], sep = \",\")"
   ]
  },
  {
   "cell_type": "code",
   "execution_count": 33,
   "metadata": {},
   "outputs": [],
   "source": [
    "result = dat[['Title', 'Abstract']].iloc[:5, :].to_json(orient = 'index')\n"
   ]
  },
  {
   "cell_type": "code",
   "execution_count": 34,
   "metadata": {},
   "outputs": [
    {
     "data": {
      "text/plain": [
       "'{\\n    \"0\": {\\n        \"Title\": \"Subureteral polydimethylsiloxane injection versus extravesical reimplantation for primary low grade vesicoureteral reflux in children: a comparative study.\",\\n        \"Abstract\": \"PURPOSE: We compare the outcome of extravesical ureteral reimplantation to endoscopic polydimethylsiloxane (Macroplastique, Uroplasty, Inc., Minneapolis, Minnesota) subureteral injection for primary low grade vesicoureteral reflux in children., MATERIALS AND METHODS: Between 1997 and 2000, 180 patients underwent polydimethylsiloxane injection (74, 108 ureters) or extravesical ureteral reimplantation (106, 166 ureters) for low grade vesicoureteral reflux. Low grade reflux was defined as grades I to III. Outcome analysis included success rates, de novo hydronephrosis, voiding efficiency, urinary tract infections and complications., RESULTS: Mean patient age at surgery for the injection and surgery groups was 60 and 77 months, and mean followup was 12 and 15 months, respectively. Of the patients who underwent single injection 80.6% were cured of reflux at 3 months and 91.6% were cured at last followup. Success rate after reimplantation was 95.8% at 3 months which improved to 98.8% 1 year later. The success rate was significantly different between the injection and reimplantation groups at 3 and 12 months (p <0.01). Postoperative complications in the reimplantation group included transient urinary retention after bilateral surgery in 2 patients (3.3%), suprapubic fluid collections in 2 and wound seroma in 1. No complications occurred in the polydimethylsiloxane group., CONCLUSIONS: Extravesical ureteral reimplantation has near perfect success with a low but definite complication rate. Polydimethylsiloxane offers high success rates for reflux in an ambulatory setting with no short-term complications. Currently, endoscopic polydimethylsiloxane injection is our preferred mode of therapy for low grade vesicoureteral reflux in children when surgical correction is indicated.\"\\n    },\\n    \"1\": {\\n        \"Title\": \"Severe fetal hydronephrosis: the added value of associated congenital anomalies of the kidneys and urinary tract (CAKUT) in the prediction of postnatal outcome.\",\\n        \"Abstract\": \"OBJECTIVE: The aim of this study was to focus on fetuses diagnosed with severe hydronephrosis and correlate prenatal sonographic characteristics with postnatal outcome., METHODS: Cases presenting prenatally with severe hydronephrosis (anterior-posterior renal pelvic diameter >15 mm) were collected retrospectively over a period of 11 years and divided into 2 groups: (1) isolated hydronephrosis and (2) those associated with congenital anomalies of the kidney and urinary tract (CAKUT)., RESULTS: A total of 83 fetuses comprised the study group: 35 fetuses had isolated severe hydronephrosis and 48 had associated CAKUT. The mean anterior-posterior renal pelvic diameter was 22.6 +/- 8.5 mm (range 15.0-66.0 mm). The CAKUT group was associated with a significantly increased incidence of postnatal need for surgery (17.6% vs 44.2%, P = .014), dysplastic kidney (0% vs 14%, P = .023), and total abnormal outcome (52.9% vs 86%, P = .001) in comparison with isolated severe prenatal hydronephrosis., CONCLUSIONS: Severe fetal hydronephrosis has a wide postnatal clinical spectrum, which is mainly influenced by the presence of associated sonographic CAKUT findings. These clinical data have biological relevance: a genetic or environmental defect that influences multiple renal developmental processes leads to hydronephrosis but also to concomitant malformations (CAKUT) and critically influences renal prognosis. A more selective abnormal developmental process that results in isolated enlarged pelvis even to a severe extent has less influence on renal prognosis.Copyright \\\\u00a9 2018 John Wiley & Sons, Ltd.\"\\n    },\\n    \"2\": {\\n        \"Title\": \"Bacterial pathogens in first febrile urinary tract infection affect breakthrough infections in infants with vesicoureteral reflux treated with prophylactic antibiotics.\",\\n        \"Abstract\": \"OBJECTIVE: To investigate the risk factors for recurrent urinary tract infections (UTIs) in infants with vesicoureteral reflux (VUR) and whether bacterial pathogen affected breakthrough UTI or not., METHODS: We compared children with infantile VUR with recurrent UTI (33 males, 11 females, mean age 3.2 months) and without recurrent UTI (40 males, 7 females, mean age 4.8 months). The following were compared between the 2 groups: sex, timing of UTI episode, bacterial growth on urine culture, degree and bilaterality of the reflux, hydronephrosis, renal scar, and delayed ureteral excretion of refluxed contrast on voiding cystourethrogram (VCUG)., RESULTS: Univariate Cox survival-time regression showed that younger age at first UTI, a non-Escherichia coli strain, bilateral and VUR, high-grade VUR, and hydronephrosis on initial ultrasonography (USG) significantly increased the risks of recurrent UTI (P <.05 each). In multivariate analysis, timing of the UTI episode (P = .015), a non-E. coli strain (P = .003), high grade (P = .012), and bilateral VUR (P = .002) were independently associated with increased risk of recurrent UTI. Non-E. coli strains were identified in 60% and 33% of infants with and without recurrent UTI, respectively., CONCLUSION: During the first year of life, the earlier the first UTI then the higher the chance is for recurrent UTIs. Higher grades of reflux, bilateral VUR, and the first infection by a non-E. coli strain all significantly increase the risk of recurrent UTIs.Copyright \\\\u00a9 2013. Published by Elsevier Inc.\"\\n    },\\n    \"3\": {\\n        \"Title\": \"Tubeless procedure reduces hospitalization and pain after percutaneous nephrolithotomy: results of a multivariable analysis.\",\\n        \"Abstract\": \"The objective of the study was to assess the efficacy and safety of tubeless percutaneous nephrolithotomy (t-PCNL) in comparison with standard PCNL (s-PCNL). We retrospectively evaluated 317 consecutive PCNL and compared perioperative results, time of hospitalization and analgesic requirement of t-PCNL (114; 36.0 %) to s-PCNL (203; 64.0 %). The decision to perform a tubeless PCNL was made at the end of the procedures depending on the surgeon\\'s preference and according to the following inclusion criteria: (a) no serious bleeding or perforation in the collecting system during the procedure; (b) patients with no more than one access; and (c) residual stone burden needing a second-stage nephroscopy. Staghorn stones and anatomic anomalies were not considered as exclusion criteria for t-PCNL. Univariate analyses were conducted with one-way ANOVA, Fisher\\'s exact test, Pearson\\'s Chi-square and linear-by-linear association test as appropriate. Stepwise multivariable regression analyses were used to assess the independent correlation between demographics and clinical variables and the clinical outcomes. There were no significant differences between the two groups in terms of stone-free rate, hemoglobin decrease, blood transfusion and complication rate. Mean hospital stay was significantly shorter in the t-PCNL group (3.3 vs. 4.6 days; P < 0.001). Tubeless PCNL was associated with less analgesia requirement (68.4 vs. 86.7 %; P < 0.001) and with lower analgesic dose requirement (1.6 vs. 2.1 mean doses; P = 0.010). Multivariable analyses showed that t-PCNL (P < 0.001), postoperative fever (P < 0.001), transfusions (P < 0.001), operative time (P = 0.002), postoperative hydronephrosis (P = 0.005) and residual fragment dimension (P = 0.024) were independently correlated with duration of hospitalization, while analgesic dose requirement was independently influenced by hemoglobin decrease (P < 0.001), t-PCNL (P = 0.005) and stone number (P = 0.044). Our study confirmed that t-PCNL has similar outcomes to s-PCNL in terms of stone-free rate without increasing complications in selected cases. t-PCNL is a factor independently associated with shorter hospitalization and lower analgesic requirement.\"\\n    },\\n    \"4\": {\\n        \"Title\": \"Is ureteral stenting really necessary after ureteroscopic lithotripsy with balloon dilatation of ureteral orifice? A multi-institutional randomized controlled study.\",\\n        \"Abstract\": \"PURPOSE: Our aim was to evaluate the role of balloon dilatation of the ureteral orifice on the decision to stent after ureteroscopy., MATERIALS AND METHODS: We prospectively enrolled 505 patients from two clinics, undergoing ureteroscopy (URS) for urolithiasis. Patients having balloon dilatation of the ureteral orifice and uncomplicated ureteroscopy were randomized to be either stented (n = 144) or nonstented (n = 142). Ureteroscopy was done with a 9.8 rigid ureteroscope. For dilatation of ureteral orifice, 18Fr-4 cm balloons were used (UromaxTM, Boston Scientific, USA). Holmium laser or pneumatic devices were used for lithotripsy. In the second postoperative week, patients were asked to assess: pain, dysuria, and urgency using a 10-cm visual analog score (VAS) and unplanned visits. In each visit, urinalysis, urine culture, plain X-ray, and ultrasound examinations were performed. Six months after URS, follow-up IVU was performed to evaluate ureteral narrowing. Results for the separate clinics were not revealed until the end of study., RESULTS: There were no significant differences between the two groups regarding gender, age, preoperative serum creatinine levels, stone size, stone side and location, lithotripsy type, pain, infectious complications, unplanned visits, and ureteral narrowing. However, irritative symptoms were more common in the stented group. Success rates of 97.8 and 97.2% were similar in the unstented and stented groups., CONCLUSION: In uncomplicated URS, balloon dilatation of the ureteral orifice should not significantly affect the decision for or against stent placement. Avoiding stents lowers costs and gives fewer irritative symptoms.\"\\n    }\\n}'"
      ]
     },
     "execution_count": 34,
     "metadata": {},
     "output_type": "execute_result"
    }
   ],
   "source": [
    "parsed = json.loads(result)\n",
    "json.dumps(parsed, indent=4) "
   ]
  },
  {
   "cell_type": "code",
   "execution_count": null,
   "metadata": {},
   "outputs": [],
   "source": []
  }
 ],
 "metadata": {
  "kernelspec": {
   "display_name": "Python 3",
   "language": "python",
   "name": "python3"
  },
  "language_info": {
   "codemirror_mode": {
    "name": "ipython",
    "version": 3
   },
   "file_extension": ".py",
   "mimetype": "text/x-python",
   "name": "python",
   "nbconvert_exporter": "python",
   "pygments_lexer": "ipython3",
   "version": "3.8.5"
  }
 },
 "nbformat": 4,
 "nbformat_minor": 4
}